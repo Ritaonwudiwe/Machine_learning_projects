{
 "cells": [
  {
   "cell_type": "code",
   "execution_count": 137,
   "id": "1818290c",
   "metadata": {},
   "outputs": [],
   "source": [
    "#importing all python libraries needed for the analysis of reviews\n",
    "import pandas as pd\n",
    "import numpy as np\n",
    "import matplotlib.pyplot as plt\n",
    "import nltk\n",
    "import re\n",
    "from nltk.tokenize import word_tokenize\n",
    "from nltk.corpus import stopwords\n",
    "from nltk.stem import WordNetLemmatizer\n",
    "from nltk import pos_tag\n",
    "from sklearn.feature_extraction.text import CountVectorizer\n",
    "from sklearn.feature_extraction.text import TfidfVectorizer\n",
    "from sklearn.metrics import classification_report\n",
    "from sklearn.metrics import accuracy_score\n",
    "from sklearn.neighbors import KNeighborsClassifier\n",
    "from sklearn.naive_bayes import MultinomialNB\n",
    "from sklearn.ensemble import RandomForestClassifier\n",
    "from sklearn import tree\n",
    "from sklearn.svm import SVC\n",
    "from warnings import simplefilter\n",
    "simplefilter(action='ignore', category=FutureWarning)"
   ]
  },
  {
   "cell_type": "code",
   "execution_count": 2,
   "id": "5799dc47",
   "metadata": {},
   "outputs": [
    {
     "name": "stdout",
     "output_type": "stream",
     "text": [
      "showing info https://raw.githubusercontent.com/nltk/nltk_data/gh-pages/index.xml\n"
     ]
    },
    {
     "data": {
      "text/plain": [
       "True"
      ]
     },
     "execution_count": 2,
     "metadata": {},
     "output_type": "execute_result"
    }
   ],
   "source": [
    "#downloading nltk libraries for the analysis\n",
    "nltk.download()"
   ]
  },
  {
   "cell_type": "code",
   "execution_count": 3,
   "id": "11c5f26f",
   "metadata": {},
   "outputs": [
    {
     "data": {
      "text/html": [
       "<div>\n",
       "<style scoped>\n",
       "    .dataframe tbody tr th:only-of-type {\n",
       "        vertical-align: middle;\n",
       "    }\n",
       "\n",
       "    .dataframe tbody tr th {\n",
       "        vertical-align: top;\n",
       "    }\n",
       "\n",
       "    .dataframe thead th {\n",
       "        text-align: right;\n",
       "    }\n",
       "</style>\n",
       "<table border=\"1\" class=\"dataframe\">\n",
       "  <thead>\n",
       "    <tr style=\"text-align: right;\">\n",
       "      <th></th>\n",
       "      <th>ratings</th>\n",
       "      <th>applications</th>\n",
       "      <th>reviews</th>\n",
       "    </tr>\n",
       "  </thead>\n",
       "  <tbody>\n",
       "    <tr>\n",
       "      <th>0</th>\n",
       "      <td>2</td>\n",
       "      <td>B004A9SDD8</td>\n",
       "      <td>Loves the song, so he really couldn't wait to ...</td>\n",
       "    </tr>\n",
       "    <tr>\n",
       "      <th>1</th>\n",
       "      <td>3</td>\n",
       "      <td>B004A9SDD8</td>\n",
       "      <td>Oh, how my little grandson loves this app. He'...</td>\n",
       "    </tr>\n",
       "    <tr>\n",
       "      <th>2</th>\n",
       "      <td>3</td>\n",
       "      <td>B004A9SDD8</td>\n",
       "      <td>I found this at a perfect time since my daught...</td>\n",
       "    </tr>\n",
       "    <tr>\n",
       "      <th>3</th>\n",
       "      <td>3</td>\n",
       "      <td>B004A9SDD8</td>\n",
       "      <td>My 1 year old goes back to this game over and ...</td>\n",
       "    </tr>\n",
       "    <tr>\n",
       "      <th>4</th>\n",
       "      <td>3</td>\n",
       "      <td>B004A9SDD8</td>\n",
       "      <td>There are three different versions of the song...</td>\n",
       "    </tr>\n",
       "  </tbody>\n",
       "</table>\n",
       "</div>"
      ],
      "text/plain": [
       "   ratings applications                                            reviews\n",
       "0        2   B004A9SDD8  Loves the song, so he really couldn't wait to ...\n",
       "1        3   B004A9SDD8  Oh, how my little grandson loves this app. He'...\n",
       "2        3   B004A9SDD8  I found this at a perfect time since my daught...\n",
       "3        3   B004A9SDD8  My 1 year old goes back to this game over and ...\n",
       "4        3   B004A9SDD8  There are three different versions of the song..."
      ]
     },
     "execution_count": 3,
     "metadata": {},
     "output_type": "execute_result"
    }
   ],
   "source": [
    "# loading the reviews on pandas and assigning header to the columns\n",
    "col_names = ['ratings', 'applications', 'reviews']\n",
    "df = pd.read_csv('reviews_Apps_for_Android_5.training.txt', sep=\"\t\", names=col_names, header=None)\n",
    "\n",
    "# print the output.\n",
    "df.head()"
   ]
  },
  {
   "cell_type": "code",
   "execution_count": 4,
   "id": "2e998781",
   "metadata": {},
   "outputs": [
    {
     "data": {
      "text/html": [
       "<div>\n",
       "<style scoped>\n",
       "    .dataframe tbody tr th:only-of-type {\n",
       "        vertical-align: middle;\n",
       "    }\n",
       "\n",
       "    .dataframe tbody tr th {\n",
       "        vertical-align: top;\n",
       "    }\n",
       "\n",
       "    .dataframe thead th {\n",
       "        text-align: right;\n",
       "    }\n",
       "</style>\n",
       "<table border=\"1\" class=\"dataframe\">\n",
       "  <thead>\n",
       "    <tr style=\"text-align: right;\">\n",
       "      <th></th>\n",
       "      <th>ratings</th>\n",
       "      <th>applications</th>\n",
       "      <th>reviews</th>\n",
       "    </tr>\n",
       "  </thead>\n",
       "  <tbody>\n",
       "    <tr>\n",
       "      <th>0</th>\n",
       "      <td>3</td>\n",
       "      <td>B004K4RY9M</td>\n",
       "      <td>I am a person who has always enjoyed word game...</td>\n",
       "    </tr>\n",
       "    <tr>\n",
       "      <th>1</th>\n",
       "      <td>3</td>\n",
       "      <td>B004K4RY9M</td>\n",
       "      <td>Love this.  I try to beat my own time to see h...</td>\n",
       "    </tr>\n",
       "    <tr>\n",
       "      <th>2</th>\n",
       "      <td>3</td>\n",
       "      <td>B004K4RY9M</td>\n",
       "      <td>This game is fun and it can also be alearning ...</td>\n",
       "    </tr>\n",
       "    <tr>\n",
       "      <th>3</th>\n",
       "      <td>3</td>\n",
       "      <td>B004K4RY9M</td>\n",
       "      <td>I enjoy these puzzles have books of them keep ...</td>\n",
       "    </tr>\n",
       "    <tr>\n",
       "      <th>4</th>\n",
       "      <td>3</td>\n",
       "      <td>B004K4RY9M</td>\n",
       "      <td>Have spent many enjoyable hours playing this g...</td>\n",
       "    </tr>\n",
       "  </tbody>\n",
       "</table>\n",
       "</div>"
      ],
      "text/plain": [
       "   ratings applications                                            reviews\n",
       "0        3   B004K4RY9M  I am a person who has always enjoyed word game...\n",
       "1        3   B004K4RY9M  Love this.  I try to beat my own time to see h...\n",
       "2        3   B004K4RY9M  This game is fun and it can also be alearning ...\n",
       "3        3   B004K4RY9M  I enjoy these puzzles have books of them keep ...\n",
       "4        3   B004K4RY9M  Have spent many enjoyable hours playing this g..."
      ]
     },
     "execution_count": 4,
     "metadata": {},
     "output_type": "execute_result"
    }
   ],
   "source": [
    "# loading the reviews on pandas and assigning header to the columns\n",
    "col_names = ['ratings', 'applications', 'reviews']\n",
    "df2 = pd.read_csv('reviews_Apps_for_Android_5.test.txt', sep=\"\t\", names=col_names, header=None)\n",
    "\n",
    "# print the output.\n",
    "df2.head()"
   ]
  },
  {
   "cell_type": "code",
   "execution_count": 5,
   "id": "31b0ebb4",
   "metadata": {},
   "outputs": [],
   "source": [
    "#defining a function that can preprocess reviews before vectorization. Here the function accepts a string of text as argument.\n",
    "def preprocess(text):\n",
    "    #Convert text to lowercase using the lower() attribute\n",
    "    text = text.lower()\n",
    "    #removing digits and numbers\n",
    "    filtered_text= re.sub(r'\\d+', '', text)\n",
    "    #Tokenize the text using the word_tokenize()\n",
    "    tokens = word_tokenize(filtered_text)\n",
    "    #list of english stop words are imported using the stopwords.words() and converted into a set using the set()\n",
    "    stop_words = set(stopwords.words('english'))\n",
    "    #the for loop scans the list of tokens and checks for any word that is not in the set of stop words and if found\n",
    "    #stores the word in the list, 'filtered_tokens'\n",
    "    filtered_tokens = [token for token in tokens if token not in stop_words]\n",
    "    # Perform POS tagging on the filtered_tokens by using the pos_tag() function that takes a list of filtered tokens  \n",
    "    #and returns a list of tuples, where each tuple contains a word and its corresponding part-of-speech tag.\n",
    "    tagged_tokens = pos_tag(filtered_tokens)\n",
    "    # assigning the WordNetLemmatizer() to the word 'lemmatizer'\n",
    "    lemmatizer = WordNetLemmatizer()\n",
    "    #using the python list comprehension, we use the for loop to iterate through the tagged_tokens. \n",
    "    #the conditional statement checks if the word and their POS tags corresponds to the first letters of the POS tags- \n",
    "    # adjectives, nouns, and verbs in their lower case forms. if condition is met, the word and tag is lemmatized using \n",
    "    #the lemmatizer.lemmatize() and appended to the lemma_tokens, else the word alone is lemmatized\n",
    "    lemma_tokens = [lemmatizer.lemmatize(token[0], pos = token[1][0].lower()) if token[1][0].lower() in ['a', 'n', 'v'] \n",
    "                    else lemmatizer.lemmatize(token[0]) for token in tagged_tokens]\n",
    "    # Converting the list of lemmatized tokens into a string using the join() function and using a space as a delimiter \n",
    "    #this makes it easy for the tfidf vectorizer to process\n",
    "    preprocessed_text = ' '.join(lemma_tokens)\n",
    "    #output of function\n",
    "    return preprocessed_text"
   ]
  },
  {
   "cell_type": "code",
   "execution_count": 6,
   "id": "e30b2c40",
   "metadata": {},
   "outputs": [
    {
     "data": {
      "text/plain": [
       "0        love song , really could n't wait play . littl...\n",
       "1        oh , little grandson love app . 's always ask ...\n",
       "2        find perfect time since daughter 's favorite s...\n",
       "3        year old go back game . simple easy toddler us...\n",
       "4        three different version song . game keep occup...\n",
       "                               ...                        \n",
       "19996    particular word search challenge one timed fin...\n",
       "19997    hard use . finger would n't pick word right fr...\n",
       "19998    keep mind sharp , good eye hand coordination ,...\n",
       "19999    really fun one - great kindle fire airplane wo...\n",
       "20000    love word game always enjoy word search puzzle...\n",
       "Name: reviews, Length: 20001, dtype: object"
      ]
     },
     "execution_count": 6,
     "metadata": {},
     "output_type": "execute_result"
    }
   ],
   "source": [
    "# Pre-process the reviews by applying the preprocess method\n",
    "training_data = df['reviews'].apply(preprocess)\n",
    "#assigning the ratings column to the variable: training_labels\n",
    "training_labels = df['ratings']\n",
    "#outputting the reviews stored in training_data\n",
    "training_data"
   ]
  },
  {
   "cell_type": "code",
   "execution_count": 7,
   "id": "c4406876",
   "metadata": {},
   "outputs": [
    {
     "name": "stdout",
     "output_type": "stream",
     "text": [
      "0        person always enjoy word game thiis one excell...\n",
      "1        love . try beat time see fast complete . keep ...\n",
      "2        game fun also alearning game . recomend age . ...\n",
      "3        enjoy puzzle book keep entertained hour . grea...\n",
      "4        spend many enjoyable hour play game would reco...\n",
      "                               ...                        \n",
      "19994    game alot fun cause silly . upper lvs big pain...\n",
      "19995    well , almost see angry bird cultural phenomen...\n",
      "19996    love game . good thing ca n't update game . ev...\n",
      "19997    really fun game , wife score contest even . gr...\n",
      "19998    nice update graphic find start pretty hard som...\n",
      "Name: reviews, Length: 19999, dtype: object\n"
     ]
    }
   ],
   "source": [
    "#Pre-process the testing reviews\n",
    "testing_data = df2['reviews'].apply(preprocess)\n",
    "#assigning the ratings column to the variable: testing_labels\n",
    "testing_labels = df2['ratings']\n",
    "#outputting the reviews stored in testing_data\n",
    "print(testing_data)"
   ]
  },
  {
   "cell_type": "code",
   "execution_count": 50,
   "id": "e36b53c2",
   "metadata": {},
   "outputs": [],
   "source": [
    "#Calling the TfidfVectorizer() and assigning  maximum features of 10000\n",
    "train_tfidf_vectorizer = TfidfVectorizer(max_features = 10000)"
   ]
  },
  {
   "cell_type": "code",
   "execution_count": 51,
   "id": "78a55afc",
   "metadata": {},
   "outputs": [],
   "source": [
    "#Calling the CountVectorizer() and assigning maximum features of 10000\n",
    "training_count_vectorizer = CountVectorizer(max_features = 10000)"
   ]
  },
  {
   "cell_type": "code",
   "execution_count": 60,
   "id": "6c6a262e",
   "metadata": {},
   "outputs": [
    {
     "data": {
      "text/plain": [
       "<20001x10000 sparse matrix of type '<class 'numpy.float64'>'\n",
       "\twith 388278 stored elements in Compressed Sparse Row format>"
      ]
     },
     "execution_count": 60,
     "metadata": {},
     "output_type": "execute_result"
    }
   ],
   "source": [
    "#transforming the training data to a matrix of TF-IDF features\n",
    "training_tfidf_instance = train_tfidf_vectorizer.fit_transform(training_data)\n",
    "training_tfidf_instance"
   ]
  },
  {
   "cell_type": "code",
   "execution_count": 61,
   "id": "20bf5bb4",
   "metadata": {},
   "outputs": [
    {
     "data": {
      "text/plain": [
       "<20001x10000 sparse matrix of type '<class 'numpy.int64'>'\n",
       "\twith 388278 stored elements in Compressed Sparse Row format>"
      ]
     },
     "execution_count": 61,
     "metadata": {},
     "output_type": "execute_result"
    }
   ],
   "source": [
    "#trans the training data to a matrix of BOW features\n",
    "training_BOW_instance = training_count_vectorizer.fit_transform(training_data)\n",
    "training_BOW_instance"
   ]
  },
  {
   "cell_type": "code",
   "execution_count": 54,
   "id": "b1970b05",
   "metadata": {},
   "outputs": [],
   "source": [
    "#extracting the TF-IDF features using get_feature_names() and assigning to training_words\n",
    "#this will be used as a parameter for training the testing vectorizer\n",
    "training_words = train_tfidf_vectorizer.get_feature_names()"
   ]
  },
  {
   "cell_type": "code",
   "execution_count": 55,
   "id": "7798ade4",
   "metadata": {},
   "outputs": [],
   "source": [
    "#extracting the BOW features using get_feature_names() and assigning to training_words_2\n",
    "training_words_2 = training_count_vectorizer.get_feature_names()"
   ]
  },
  {
   "cell_type": "code",
   "execution_count": 56,
   "id": "9bc3b6a4",
   "metadata": {},
   "outputs": [],
   "source": [
    "#Assigning the same features to the test_tfidf_vectorizer using \n",
    "#the vocabulary argument which takes in the features stored in the training words\n",
    "test_tfidf_vectorizer = TfidfVectorizer(vocabulary = training_words)"
   ]
  },
  {
   "cell_type": "code",
   "execution_count": 57,
   "id": "30616a4c",
   "metadata": {},
   "outputs": [],
   "source": [
    "#Assigning the same features to the test_tfidf_vectorizer using vocabulary\n",
    "test_BOW_vectorizer = CountVectorizer(vocabulary = training_words_2)"
   ]
  },
  {
   "cell_type": "code",
   "execution_count": 58,
   "id": "59e8181c",
   "metadata": {},
   "outputs": [
    {
     "data": {
      "text/plain": [
       "<19999x10000 sparse matrix of type '<class 'numpy.float64'>'\n",
       "\twith 382682 stored elements in Compressed Sparse Row format>"
      ]
     },
     "execution_count": 58,
     "metadata": {},
     "output_type": "execute_result"
    }
   ],
   "source": [
    "#transforming the reviews of the testing data to tfidf numerical values\n",
    "test_tfidf_instance = test_tfidf_vectorizer.fit_transform(testing_data)\n",
    "test_tfidf_instance"
   ]
  },
  {
   "cell_type": "code",
   "execution_count": 59,
   "id": "df9e3b04",
   "metadata": {},
   "outputs": [
    {
     "data": {
      "text/plain": [
       "<19999x10000 sparse matrix of type '<class 'numpy.int64'>'\n",
       "\twith 382682 stored elements in Compressed Sparse Row format>"
      ]
     },
     "execution_count": 59,
     "metadata": {},
     "output_type": "execute_result"
    }
   ],
   "source": [
    "#transforming the reviews of the testing data to tfidf numerical values\n",
    "test_BOW_instance = test_BOW_vectorizer.fit_transform(testing_data)\n",
    "test_BOW_instance"
   ]
  },
  {
   "cell_type": "markdown",
   "id": "e39326bb",
   "metadata": {},
   "source": [
    "###  The performance of  five algorithms was compared on the *TF-IDF* vectorizer and the *CountVectorizer*. These algorithms are decision tree (dt), support vector machine (svm), k-nearest neigbour (knn), multinomial naive bayes (nb), and random forests (rf)."
   ]
  },
  {
   "cell_type": "code",
   "execution_count": 99,
   "id": "083e7f45",
   "metadata": {},
   "outputs": [],
   "source": [
    "#assigning the classification models to variables in the order: decision tree, Support Vector Machine, \n",
    "# K-Nearest Neigbour, multinomial naive bayes and the random forest\n",
    "dt_classifier = tree.DecisionTreeClassifier()\n",
    "svm_classifier= SVC(kernel='linear', probability=True)\n",
    "knn_classifier= KNeighborsClassifier(n_neighbors=25)#after several computations, n_neighbors=25, gave the highest accuracy\n",
    "nb_classifier = MultinomialNB()\n",
    "rf_classifier = RandomForestClassifier(n_estimators=100, random_state=42)#the n_estimators=100 is the number of trees and the \n",
    "#random_state=42 ensures the results are consistent"
   ]
  },
  {
   "cell_type": "code",
   "execution_count": 100,
   "id": "d09a3a2e",
   "metadata": {},
   "outputs": [
    {
     "name": "stdout",
     "output_type": "stream",
     "text": [
      "training classifiers on TFIDF vectors\n",
      "training finished successfully\n"
     ]
    }
   ],
   "source": [
    "#print statement\n",
    "print('training classifiers on TFIDF vectors')\n",
    "\n",
    "#training the models with the TF-IDF vectorized training data\n",
    "#first is the decision tree. then, Support Vector Machine, K-Nearest Neigbour, \n",
    "# multinomial naive bayes and the random forest\n",
    "#assigning the training dataset and labels to the algorithms using the fit function\n",
    "#assigning the training dataset and labels to the algorithm using the fit function\n",
    "dt_classifier.fit(training_tfidf_instance, training_labels)\n",
    "svm_classifier.fit(training_tfidf_instance, training_labels)\n",
    "knn_classifier.fit(training_tfidf_instance, training_labels)\n",
    "nb_classifier.fit(training_tfidf_instance, training_labels)\n",
    "rf_classifier.fit(training_tfidf_instance, training_labels)\n",
    "\n",
    "#print statement to display successful training\n",
    "print('training finished successfully')"
   ]
  },
  {
   "cell_type": "code",
   "execution_count": 101,
   "id": "71c631bd",
   "metadata": {},
   "outputs": [
    {
     "name": "stdout",
     "output_type": "stream",
     "text": [
      "getting predictions of test instances using tfidf vectorizer\n",
      "predictions complete\n"
     ]
    }
   ],
   "source": [
    "#print statement\n",
    "print('getting predictions of test instances using tfidf vectorizer')\n",
    "\n",
    "#getting the predictions of each classifier using the TF-IDF test instances\n",
    "dt_predicted_labels = dt_classifier.predict(test_tfidf_instance)\n",
    "svm_predicted_labels = svm_classifier.predict(test_tfidf_instance)\n",
    "knn_predicted_labels = knn_classifier.predict(test_tfidf_instance)\n",
    "nb_predicted_labels = nb_classifier.predict(test_tfidf_instance)\n",
    "rf_predicted_labels = rf_classifier.predict(test_tfidf_instance)\n",
    "\n",
    "#print statement\n",
    "print('predictions complete')"
   ]
  },
  {
   "cell_type": "code",
   "execution_count": 102,
   "id": "758f4c47",
   "metadata": {},
   "outputs": [
    {
     "name": "stdout",
     "output_type": "stream",
     "text": [
      "predicted outputs of TF-IDF test instances\n",
      "\n",
      "Decision Tree: [2 3 3 ... 3 3 3]\n",
      "SVM: [3 3 3 ... 3 3 3]\n",
      "KNN: [3 3 3 ... 3 3 3]\n",
      "Naive Bayes: [3 3 3 ... 3 3 3]\n",
      "Random Forest: [3 3 3 ... 3 3 3]\n"
     ]
    }
   ],
   "source": [
    "#print statement\n",
    "print('predicted outputs of TF-IDF test instances\\n')\n",
    "\n",
    "#printing output of each classifier that made predictions with the TF-IDF vectorizer \n",
    "#test data in sequence: decision tree, SVM, KNN, Multinomial naive bayes and Random forest\n",
    "print('Decision Tree:', dt_predicted_labels)\n",
    "print('SVM:', svm_predicted_labels)\n",
    "print('KNN:', knn_predicted_labels)\n",
    "print('Naive Bayes:', nb_predicted_labels)\n",
    "print('Random Forest:', rf_predicted_labels)"
   ]
  },
  {
   "cell_type": "code",
   "execution_count": 103,
   "id": "1b8aa78f",
   "metadata": {},
   "outputs": [
    {
     "name": "stdout",
     "output_type": "stream",
     "text": [
      "training classifiers on CountVectorizer\n",
      "training finished successfully\n"
     ]
    }
   ],
   "source": [
    "#print statement\n",
    "print('training classifiers on CountVectorizer')\n",
    "\n",
    "#training the models with the bag of words vectorized training data\n",
    "#first is the decision tree. then, Support Vector Machine, K-Nearest Neigbour, \n",
    "# multinomial naive bayes and the random forest\n",
    "#assigning the training dataset and labels to the algorithms using the fit function\n",
    "dt_classifier.fit(training_BOW_instance, training_labels)\n",
    "svm_classifier.fit(training_BOW_instance, training_labels)\n",
    "knn_classifier.fit(training_BOW_instance, training_labels)\n",
    "nb_classifier.fit(training_BOW_instance, training_labels)\n",
    "rf_classifier.fit(training_BOW_instance, training_labels)\n",
    "\n",
    "#print statement to display successful training\n",
    "print('training finished successfully')"
   ]
  },
  {
   "cell_type": "code",
   "execution_count": 104,
   "id": "b207ac2d",
   "metadata": {},
   "outputs": [
    {
     "name": "stdout",
     "output_type": "stream",
     "text": [
      "getting predictions of test instances using countVectorizer\n",
      "predictions complete\n"
     ]
    }
   ],
   "source": [
    "#print statement\n",
    "print('getting predictions of test instances using countVectorizer')\n",
    "\n",
    "#getting the predictions of each classifier using the CountVectorizer test instances\n",
    "dt_predicted_labels_2 = dt_classifier.predict(test_BOW_instance)\n",
    "svm_predicted_labels_2 = svm_classifier.predict(test_BOW_instance)\n",
    "knn_predicted_labels_2 = knn_classifier.predict(test_BOW_instance)\n",
    "nb_predicted_labels_2 = nb_classifier.predict(test_BOW_instance)\n",
    "rf_predicted_labels_2 = rf_classifier.predict(test_BOW_instance)\n",
    "\n",
    "#print statement\n",
    "print('predictions complete')"
   ]
  },
  {
   "cell_type": "code",
   "execution_count": 105,
   "id": "31baddac",
   "metadata": {},
   "outputs": [
    {
     "name": "stdout",
     "output_type": "stream",
     "text": [
      "predicted output of countVectorizer test instances\n",
      "\n",
      "Decision Tree: [2 3 2 ... 1 2 3]\n",
      "SVM: [3 3 3 ... 3 3 3]\n",
      "KNN: [3 3 3 ... 3 3 3]\n",
      "Naive Bayes: [3 3 3 ... 1 3 3]\n",
      "Random forest: [3 3 3 ... 3 3 3]\n"
     ]
    }
   ],
   "source": [
    "#print statement\n",
    "print('predicted output of countVectorizer test instances\\n')\n",
    "\n",
    "#printing output of each classifier that made predictions with the CountVectorizer \n",
    "#test data in sequence: decision tree, SVM, KNN, Multinomial naive bayes and Random forest\n",
    "print('Decision Tree:', dt_predicted_labels_2)\n",
    "print('SVM:', svm_predicted_labels_2)\n",
    "print('KNN:', knn_predicted_labels_2)\n",
    "print('Naive Bayes:', nb_predicted_labels_2)\n",
    "print('Random forest:', rf_predicted_labels_2)"
   ]
  },
  {
   "cell_type": "markdown",
   "id": "b27ef9b4",
   "metadata": {},
   "source": [
    "### The next four cells show the classification reports of each algorithm. According to the classification reports, SVM outperformed other algorithms in terms of accuracy and f1_score of the three ratings on the TF-IDF vectorizer and Random forest performed best in CountVectorizer. However, the *TF-IDF* vectorizer performed better on average and so, the SVM was chosen."
   ]
  },
  {
   "cell_type": "code",
   "execution_count": 106,
   "id": "7428188b",
   "metadata": {},
   "outputs": [
    {
     "name": "stdout",
     "output_type": "stream",
     "text": [
      "TF-IDF Decision tree: \n",
      "               precision    recall  f1-score   support\n",
      "\n",
      "           1       0.45      0.39      0.41      3469\n",
      "           2       0.22      0.21      0.21      2087\n",
      "           3       0.81      0.84      0.82     14443\n",
      "\n",
      "    accuracy                           0.69     19999\n",
      "   macro avg       0.49      0.48      0.48     19999\n",
      "weighted avg       0.68      0.69      0.69     19999\n",
      "\n",
      "\n",
      "TF-IDF SUPPORT VECTOR MACHINE: \n",
      "               precision    recall  f1-score   support\n",
      "\n",
      "           1       0.66      0.51      0.58      3469\n",
      "           2       0.49      0.11      0.18      2087\n",
      "           3       0.82      0.96      0.88     14443\n",
      "\n",
      "    accuracy                           0.79     19999\n",
      "   macro avg       0.66      0.53      0.55     19999\n",
      "weighted avg       0.76      0.79      0.76     19999\n",
      "\n",
      "\n",
      "TF-IDF KNN ALGORITHM: \n",
      "               precision    recall  f1-score   support\n",
      "\n",
      "           1       0.72      0.22      0.33      3469\n",
      "           2       0.49      0.02      0.04      2087\n",
      "           3       0.76      0.99      0.86     14443\n",
      "\n",
      "    accuracy                           0.75     19999\n",
      "   macro avg       0.66      0.41      0.41     19999\n",
      "weighted avg       0.72      0.75      0.68     19999\n",
      "\n",
      "\n",
      "TF-IDF NAIVE BAYES: \n",
      "               precision    recall  f1-score   support\n",
      "\n",
      "           1       0.88      0.06      0.11      3469\n",
      "           2       0.00      0.00      0.00      2087\n",
      "           3       0.73      1.00      0.84     14443\n",
      "\n",
      "    accuracy                           0.73     19999\n",
      "   macro avg       0.54      0.35      0.32     19999\n",
      "weighted avg       0.68      0.73      0.63     19999\n",
      "\n",
      "\n",
      "TF-IDF RANDOM FOREST: \n",
      "               precision    recall  f1-score   support\n",
      "\n",
      "           1       0.76      0.26      0.39      3469\n",
      "           2       0.54      0.06      0.10      2087\n",
      "           3       0.77      0.99      0.86     14443\n",
      "\n",
      "    accuracy                           0.76     19999\n",
      "   macro avg       0.69      0.44      0.45     19999\n",
      "weighted avg       0.74      0.76      0.70     19999\n",
      "\n"
     ]
    }
   ],
   "source": [
    "#compute and print classification report: precision, recall, and fmeasure for each TF-IDF classification label\n",
    "#in sequence: decision tree, SVM, KNN, Multinomial naive bayes and Random forest\n",
    "print('TF-IDF Decision tree:', '\\n', classification_report(testing_labels, dt_predicted_labels, zero_division= 0))\n",
    "print()\n",
    "print('TF-IDF SUPPORT VECTOR MACHINE:', '\\n', classification_report(testing_labels, svm_predicted_labels, zero_division= 0))\n",
    "print()\n",
    "print('TF-IDF KNN ALGORITHM:', '\\n', classification_report(testing_labels, knn_predicted_labels, zero_division= 0))\n",
    "print()\n",
    "print('TF-IDF NAIVE BAYES:', '\\n', classification_report(testing_labels, nb_predicted_labels, zero_division= 0))\n",
    "print()\n",
    "print('TF-IDF RANDOM FOREST:', '\\n', classification_report(testing_labels, rf_predicted_labels, zero_division= 0))"
   ]
  },
  {
   "cell_type": "code",
   "execution_count": 107,
   "id": "8e73aa81",
   "metadata": {},
   "outputs": [
    {
     "name": "stdout",
     "output_type": "stream",
     "text": [
      "Decision Tree accuracy: 0.694\n",
      "SVM accuracy: 0.791\n",
      "KNN accuracy: 0.753\n",
      "Naive_bayes accuracy: 0.732\n",
      "random forest accuracy: 0.765\n"
     ]
    }
   ],
   "source": [
    "#Evaluating accuracy result of classifiers for tf-idf model\n",
    "#in this sequence: decision tree, SVM, KNN, Multinomial naive bayes and Random forest\n",
    "dt_accuracy = accuracy_score(testing_labels, dt_predicted_labels)\n",
    "svm_accuracy = accuracy_score(testing_labels, svm_predicted_labels)\n",
    "knn_accuracy = accuracy_score(testing_labels, knn_predicted_labels)\n",
    "nb_accuracy = accuracy_score(testing_labels, nb_predicted_labels)\n",
    "rf_accuracy = accuracy_score(testing_labels, rf_predicted_labels)\n",
    "\n",
    "#print the accuracy results of each model using the f string\n",
    "#in this sequence: decision tree, SVM, KNN, Multinomial naive bayes and Random forest\n",
    "print(f'Decision Tree accuracy: {dt_accuracy:.3f}')\n",
    "print(f'SVM accuracy: {svm_accuracy:.3f}')\n",
    "print(f'KNN accuracy: {knn_accuracy:.3f}')\n",
    "print(f'Naive_bayes accuracy: {nb_accuracy:.3f}')\n",
    "print(f'random forest accuracy: {rf_accuracy:.3f}')"
   ]
  },
  {
   "cell_type": "code",
   "execution_count": 108,
   "id": "906d435f",
   "metadata": {},
   "outputs": [
    {
     "name": "stdout",
     "output_type": "stream",
     "text": [
      "Decision tree: \n",
      "               precision    recall  f1-score   support\n",
      "\n",
      "           1       0.45      0.41      0.43      3469\n",
      "           2       0.21      0.19      0.20      2087\n",
      "           3       0.81      0.84      0.82     14443\n",
      "\n",
      "    accuracy                           0.70     19999\n",
      "   macro avg       0.49      0.48      0.48     19999\n",
      "weighted avg       0.68      0.70      0.69     19999\n",
      "\n",
      "\n",
      "SUPPORT VECTOR MACHINE: \n",
      "               precision    recall  f1-score   support\n",
      "\n",
      "           1       0.56      0.55      0.55      3469\n",
      "           2       0.29      0.23      0.26      2087\n",
      "           3       0.85      0.88      0.86     14443\n",
      "\n",
      "    accuracy                           0.75     19999\n",
      "   macro avg       0.57      0.55      0.56     19999\n",
      "weighted avg       0.74      0.75      0.75     19999\n",
      "\n",
      "\n",
      "KNN ALGORITHM: \n",
      "               precision    recall  f1-score   support\n",
      "\n",
      "           1       0.41      0.14      0.21      3469\n",
      "           2       0.24      0.02      0.04      2087\n",
      "           3       0.74      0.96      0.84     14443\n",
      "\n",
      "    accuracy                           0.72     19999\n",
      "   macro avg       0.46      0.37      0.36     19999\n",
      "weighted avg       0.63      0.72      0.65     19999\n",
      "\n",
      "\n",
      "NAIVE BAYES: \n",
      "               precision    recall  f1-score   support\n",
      "\n",
      "           1       0.59      0.53      0.56      3469\n",
      "           2       0.30      0.19      0.24      2087\n",
      "           3       0.84      0.90      0.87     14443\n",
      "\n",
      "    accuracy                           0.76     19999\n",
      "   macro avg       0.58      0.54      0.55     19999\n",
      "weighted avg       0.74      0.76      0.75     19999\n",
      "\n",
      "\n",
      "RANDOM FOREST: \n",
      "               precision    recall  f1-score   support\n",
      "\n",
      "           1       0.74      0.28      0.41      3469\n",
      "           2       0.50      0.05      0.09      2087\n",
      "           3       0.77      0.98      0.86     14443\n",
      "\n",
      "    accuracy                           0.77     19999\n",
      "   macro avg       0.67      0.44      0.46     19999\n",
      "weighted avg       0.74      0.77      0.71     19999\n",
      "\n"
     ]
    }
   ],
   "source": [
    "#compute and print classification report: precision, recall, and fmeasure for each CountVectorizer classification label\n",
    "#in sequence: decision tree, SVM, KNN, Multinomial naive bayes and Random forest\n",
    "dt_classification_report_2 = classification_report(testing_labels, dt_predicted_labels_2, zero_division= 0)\n",
    "svm_classification_report_2 = classification_report(testing_labels, svm_predicted_labels_2, zero_division= 0)\n",
    "knn_classification_report_2 = classification_report(testing_labels, knn_predicted_labels_2, zero_division= 0)\n",
    "nb_classification_report_2 = classification_report(testing_labels, nb_predicted_labels_2, zero_division= 0)\n",
    "rf_classification_report_2 = classification_report(testing_labels, rf_predicted_labels_2, zero_division= 0)\n",
    "\n",
    "print('Decision tree:', '\\n', dt_classification_report_2)\n",
    "print()\n",
    "print('SUPPORT VECTOR MACHINE:', '\\n', svm_classification_report_2)\n",
    "print()\n",
    "print('KNN ALGORITHM:', '\\n', knn_classification_report_2)\n",
    "print()\n",
    "print('NAIVE BAYES:', '\\n', nb_classification_report_2)\n",
    "print()\n",
    "print('RANDOM FOREST:', '\\n', rf_classification_report_2)"
   ]
  },
  {
   "cell_type": "code",
   "execution_count": 109,
   "id": "34f7f351",
   "metadata": {},
   "outputs": [
    {
     "name": "stdout",
     "output_type": "stream",
     "text": [
      "Decision Tree accuracy: 0.696\n",
      "SVM accuracy: 0.755\n",
      "KNN accuracy: 0.719\n",
      "Naive_bayes accuracy: 0.763\n",
      "random forest accuracy: 0.765\n"
     ]
    }
   ],
   "source": [
    "#Evaluating accuracy result of classifiers for CountVectorizer models\n",
    "#in this sequence: decision tree, SVM, KNN, Multinomial naive bayes and Random forest\n",
    "dt_accuracy_bow= accuracy_score(testing_labels, dt_predicted_labels_2)\n",
    "svm_accuracy_bow = accuracy_score(testing_labels, svm_predicted_labels_2)\n",
    "knn_accuracy_bow = accuracy_score(testing_labels, knn_predicted_labels_2)\n",
    "nb_accuracy_bow = accuracy_score(testing_labels, nb_predicted_labels_2)\n",
    "rf_accuracy_bow = accuracy_score(testing_labels, rf_predicted_labels_2)\n",
    "\n",
    "#printing the accuracy results of each model using the f string\n",
    "#in this sequence: decision tree, SVM, KNN, Multinomial naive bayes and Random forest\n",
    "print(f'Decision Tree accuracy: {dt_accuracy_bow:.3f}')\n",
    "print(f'SVM accuracy: {svm_accuracy_bow:.3f}')\n",
    "print(f'KNN accuracy: {knn_accuracy_bow:.3f}')\n",
    "print(f'Naive_bayes accuracy: {nb_accuracy_bow:.3f}')\n",
    "print(f'random forest accuracy: {rf_accuracy_bow:.3f}')"
   ]
  },
  {
   "cell_type": "markdown",
   "id": "7eeb49c4",
   "metadata": {},
   "source": [
    "### PART 2: Testing company reviews with the trained *SVM*. This is because the *TF-IDF* vectorizer performed better than the countVectorizer. the *SVM* outperformed other algorithms when used with the *TF-IDF* vectorizer."
   ]
  },
  {
   "cell_type": "code",
   "execution_count": 110,
   "id": "31f98aeb",
   "metadata": {},
   "outputs": [
    {
     "name": "stdout",
     "output_type": "stream",
     "text": [
      "       ratings applications                                            reviews\n",
      "3694         3   B004LPBTAA  I compared all the sudoku games I downloaded a...\n",
      "3695         3   B004LPBTAA  I am a Sudoku beginner but I play all the game...\n",
      "3696         3   B004LPBTAA  I put this on the Kindle just to keep the kids...\n",
      "3697         3   B004LPBTAA  I really like the format--how it operates. The...\n",
      "3698         3   B004LPBTAA  I have played Sudoku on many different levels,...\n",
      "...        ...          ...                                                ...\n",
      "12513        3   B004Q1NH4U  My little guy (2 yo) has shown little interest...\n",
      "12514        3   B004Q1NH4U  One Fish Two Fish Red Fish Blue Fish-Dr. Seuss...\n",
      "12515        3   B004Q1NH4U  I bought this app d for my granddaughter she l...\n",
      "12516        3   B004Q1NH4U  I loved reading reading Dr. Seuss books to my ...\n",
      "12517        3   B004Q1NH4U  Dr. Seuss is and was a genius even though you ...\n",
      "\n",
      "[107 rows x 3 columns]\n"
     ]
    }
   ],
   "source": [
    "#reviews for the first company AAD_1 = B004NWLM8K, B004Q1NH4U, B004LPBTAA\n",
    "#reviews for the second company AAD_2 = B004S6NAOU, B004R6HTWU, B004N8KDNY\n",
    "#reviews for the second company AAD_3 = B004KA0RBS, B004NPELDA, B004L26XXQ\n",
    "\n",
    "#loading the reviews on pandas and assigning header to the columns\n",
    "col_names = ['ratings', 'applications', 'reviews']\n",
    "df2 = pd.read_csv('reviews_Apps_for_Android_5.test.txt', sep=\"\t\", names=col_names, header=None)\n",
    "\n",
    "#define column values to filter on\n",
    "AAD_1 = df2.loc[df2['applications'].isin(['B004NWLM8K', 'B004Q1NH4U', 'B004LPBTAA'])]\n",
    "\n",
    "#output column\n",
    "print(AAD_1)"
   ]
  },
  {
   "cell_type": "code",
   "execution_count": 111,
   "id": "3808fa63",
   "metadata": {},
   "outputs": [
    {
     "name": "stdout",
     "output_type": "stream",
     "text": [
      "       ratings applications                                            reviews\n",
      "8574         2   B004N8KDNY  but this ain't no plants vs zombies. h vs a is...\n",
      "8575         2   B004N8KDNY  Honestly I think this app would be very useful...\n",
      "8576         1   B004N8KDNY  just a terrible copy of plants versus zombies....\n",
      "8577         3   B004N8KDNY  I've never played &quot;Plants vs Zombies&quot...\n",
      "8578         1   B004N8KDNY  As other reviewers have said, this is very sim...\n",
      "...        ...          ...                                                ...\n",
      "18260        3   B004S6NAOU  The resin why I am going to get this game is b...\n",
      "18261        3   B004S6NAOU  It's a fun game. It's short and sweet but fun....\n",
      "18262        3   B004S6NAOU  It's an addictive game . Definitley works out ...\n",
      "18263        3   B004S6NAOU  I had no problem with. this app and by the way...\n",
      "18264        3   B004S6NAOU  I luv this App a lot! I first played it in my ...\n",
      "\n",
      "[296 rows x 3 columns]\n"
     ]
    }
   ],
   "source": [
    "#loading the reviews on pandas and assigning header to the columns\n",
    "col_names = ['ratings', 'applications', 'reviews']\n",
    "df2 = pd.read_csv('reviews_Apps_for_Android_5.test.txt', sep=\"\t\", names=col_names, header=None)\n",
    "\n",
    "#define column values to filter on\n",
    "AAD_2 = df2.loc[df2['applications'].isin(['B004S6NAOU', 'B004R6HTWU', 'B004N8KDNY'])]\n",
    "\n",
    "#output column\n",
    "print(AAD_2)"
   ]
  },
  {
   "cell_type": "code",
   "execution_count": 112,
   "id": "431cb0b1",
   "metadata": {},
   "outputs": [
    {
     "name": "stdout",
     "output_type": "stream",
     "text": [
      "      ratings applications                                            reviews\n",
      "1277        1   B004KA0RBS  really bad development. not worth .99 or being...\n",
      "1278        1   B004KA0RBS  I download nearly every Amazon FAOTD and try t...\n",
      "1279        1   B004KA0RBS  Don't waste your money! This app is rediculous...\n",
      "1280        1   B004KA0RBS  Not worth a buck. Actually it's just a waste o...\n",
      "1281        1   B004KA0RBS  whether you play the easy level or other level...\n",
      "...       ...          ...                                                ...\n",
      "9472        2   B004NPELDA  The app description is more exciting than the ...\n",
      "9473        2   B004NPELDA  I rather liked this app.  Fireworks are illega...\n",
      "9474        1   B004NPELDA  I tried it out because a while back because it...\n",
      "9475        1   B004NPELDA  doesn't launch, needs to be fixed, until then ...\n",
      "9476        1   B004NPELDA  Watchdog reported cpu usage over 80% on my def...\n",
      "\n",
      "[168 rows x 3 columns]\n"
     ]
    }
   ],
   "source": [
    "#loading the reviews on pandas and assigning header to the columns\n",
    "col_names = ['ratings', 'applications', 'reviews']\n",
    "df2 = pd.read_csv('reviews_Apps_for_Android_5.test.txt', sep=\"\t\", names=col_names, header=None)\n",
    "\n",
    "#define column values to filter on\n",
    "AAD_3 = df2.loc[df2['applications'].isin(['B004KA0RBS', 'B004NPELDA', 'B004L26XXQ'])]\n",
    "\n",
    "#output column\n",
    "print(AAD_3)"
   ]
  },
  {
   "cell_type": "code",
   "execution_count": 113,
   "id": "8a682398",
   "metadata": {},
   "outputs": [],
   "source": [
    "#Pre-process the AAD_1 reviews\n",
    "testing_AAD_1 = AAD_1['reviews'].apply(preprocess)\n",
    "#assigning the ratings column to the variable testing_labels_AAD_1\n",
    "testing_labels_AAD_1 = AAD_1['ratings']\n",
    "#outputting the preprocessed AAD_1 reviews\n",
    "#print(testing_AAD_1)"
   ]
  },
  {
   "cell_type": "code",
   "execution_count": 114,
   "id": "55051186",
   "metadata": {},
   "outputs": [],
   "source": [
    "#Pre-process the AAD_2 reviews\n",
    "testing_AAD_2 = AAD_2['reviews'].apply(preprocess)\n",
    "#assigning the ratings column to the variable testing_labels_AAD_2\n",
    "testing_labels_AAD_2 = AAD_2['ratings']\n",
    "#outputting the preprocessed AAD_2 reviews\n",
    "#print(testing_AAD_2)"
   ]
  },
  {
   "cell_type": "code",
   "execution_count": 115,
   "id": "c588f9e7",
   "metadata": {},
   "outputs": [],
   "source": [
    "#Pre-process the AAD_3 reviews\n",
    "testing_AAD_3 = AAD_3['reviews'].apply(preprocess)\n",
    "#assigning the ratings column to the variable testing_labels_AAD_3\n",
    "testing_labels_AAD_3 = AAD_3['ratings']\n",
    "#outputting the preprocessed AAD_2 reviews\n",
    "#print(testing_AAD_3)"
   ]
  },
  {
   "cell_type": "code",
   "execution_count": 116,
   "id": "10e803ea",
   "metadata": {},
   "outputs": [],
   "source": [
    "#Assigning the same features to the test_tfidf_vectorizer using \n",
    "#the vocabulary argument which takes in the features stored in the training words\n",
    "test_tfidf_vectorizer_AAD_1 = TfidfVectorizer(vocabulary = training_words)\n",
    "#transforming the reviews of the AAD_1 testing data to tfidf numerical values\n",
    "test_tfidf_instance_AAD_1 = test_tfidf_vectorizer_AAD_1.fit_transform(testing_AAD_1)"
   ]
  },
  {
   "cell_type": "code",
   "execution_count": 117,
   "id": "40b6d54b",
   "metadata": {},
   "outputs": [],
   "source": [
    "#Assigning the same features to the test_tfidf_vectorizer using \n",
    "#the vocabulary argument which takes in the features stored in the training words\n",
    "test_tfidf_vectorizer_AAD_2 = TfidfVectorizer(vocabulary = training_words)\n",
    "#transforming the reviews of the AAD_2 testing data to tfidf numerical values\n",
    "test_tfidf_instance_AAD_2 = test_tfidf_vectorizer_AAD_2.fit_transform(testing_AAD_2)"
   ]
  },
  {
   "cell_type": "code",
   "execution_count": 118,
   "id": "d47c66f2",
   "metadata": {},
   "outputs": [],
   "source": [
    "#Assigning the same features to the test_tfidf_vectorizer using \n",
    "#the vocabulary argument which takes in the features stored in the training words\n",
    "test_tfidf_vectorizer_AAD_3 = TfidfVectorizer(vocabulary = training_words)\n",
    "#transforming the reviews of the AAD_1 testing data to tfidf numerical values\n",
    "test_tfidf_instance_AAD_3 = test_tfidf_vectorizer_AAD_3.fit_transform(testing_AAD_3)"
   ]
  },
  {
   "cell_type": "code",
   "execution_count": 119,
   "id": "39de943e",
   "metadata": {},
   "outputs": [
    {
     "name": "stdout",
     "output_type": "stream",
     "text": [
      "getting predictions of test instances\n",
      "[3 3 3 3 3 3 3 3 3 3 3 3 1 3 3 3 3 3 3 3 3 3 3 3 3 3 3 3 3 3 3 3 3 3 3 3 3\n",
      " 3 3 3 3 3 1 3 3 3 3 3 3 3 3 3 3 3 3 3 3 3 3 3 3 3 3 3 3 3 3 3 3 3 3 3 3 3\n",
      " 3 3 3 3 3 3 3 3 3 1 3 3 3 3 3 3 3 3 3 3 3 3 3 3 3 3 3 3 3 3 3 3 3]\n"
     ]
    }
   ],
   "source": [
    "#print statement\n",
    "print('getting predictions of test instances')\n",
    "#getting predictions from the trained Decision tree algorithm\n",
    "predicted_labels_svm_AAD_1 = svm_classifier.predict(test_tfidf_instance_AAD_1)\n",
    "print(predicted_labels_svm_AAD_1)"
   ]
  },
  {
   "cell_type": "code",
   "execution_count": 120,
   "id": "0d8a89aa",
   "metadata": {},
   "outputs": [
    {
     "name": "stdout",
     "output_type": "stream",
     "text": [
      "              precision    recall  f1-score   support\n",
      "\n",
      "           1       0.00      0.00      0.00         4\n",
      "           3       0.96      0.97      0.97       103\n",
      "\n",
      "    accuracy                           0.93       107\n",
      "   macro avg       0.48      0.49      0.48       107\n",
      "weighted avg       0.93      0.93      0.93       107\n",
      "\n"
     ]
    }
   ],
   "source": [
    "#compute classification, recall and fmeasure for each classification label of AAD_1\n",
    "print(classification_report(testing_labels_AAD_1, predicted_labels_svm_AAD_1, zero_division= 0))"
   ]
  },
  {
   "cell_type": "code",
   "execution_count": 121,
   "id": "3db2a24c",
   "metadata": {},
   "outputs": [
    {
     "name": "stdout",
     "output_type": "stream",
     "text": [
      "getting predictions of test instances\n",
      "[3 3 3 3 3 3 3 3 1 3 1 3 3 3 3 3 3 3 3 3 3 3 3 1 3 3 3 3 3 3 3 1 3 3 3 1 3\n",
      " 3 3 3 3 3 3 3 3 3 3 3 3 3 1 1 3 1 1 3 3 3 1 3 3 3 3 3 3 3 3 3 1 3 3 3 3 3\n",
      " 3 1 1 3 3 3 1 3 3 3 1 3 3 3 3 3 3 3 3 1 3 3 3 3 3 3 1 3 3 1 1 1 3 1 1 3 1\n",
      " 3 1 3 3 1 1 3 1 3 3 1 3 3 3 3 1 3 3 1 3 1 1 3 3 1 3 1 3 3 1 3 3 1 3 1 3 3\n",
      " 3 3 3 1 3 1 3 3 1 3 3 3 1 3 3 3 1 1 3 3 3 1 3 3 3 3 3 3 3 1 3 3 3 3 1 3 3\n",
      " 3 3 3 3 3 3 3 3 3 3 3 3 3 3 1 3 1 3 3 3 3 3 3 3 3 3 3 3 3 3 3 3 3 3 3 3 3\n",
      " 3 3 3 3 3 1 3 3 3 3 1 3 3 3 3 1 3 3 3 3 3 3 3 1 3 3 3 3 1 1 3 3 3 1 3 3 3\n",
      " 3 3 3 3 3 3 1 3 1 3 3 3 1 1 2 3 3 3 1 3 1 3 3 2 3 3 3 1 3 3 1 3 3 3 3 3 3]\n"
     ]
    }
   ],
   "source": [
    "#print statement\n",
    "print('getting predictions of test instances')\n",
    "#getting predictions from the trained Decision tree algorithm\n",
    "predicted_labels_svm_AAD_2 = svm_classifier.predict(test_tfidf_instance_AAD_2)\n",
    "print(predicted_labels_svm_AAD_2)"
   ]
  },
  {
   "cell_type": "code",
   "execution_count": 122,
   "id": "ba9e886e",
   "metadata": {},
   "outputs": [
    {
     "name": "stdout",
     "output_type": "stream",
     "text": [
      "              precision    recall  f1-score   support\n",
      "\n",
      "           1       0.76      0.44      0.56       109\n",
      "           2       0.00      0.00      0.00        53\n",
      "           3       0.55      0.94      0.69       134\n",
      "\n",
      "    accuracy                           0.59       296\n",
      "   macro avg       0.44      0.46      0.42       296\n",
      "weighted avg       0.53      0.59      0.52       296\n",
      "\n"
     ]
    }
   ],
   "source": [
    "#compute classification, recall and fmeasure for each classification label of AAD_2\n",
    "print(classification_report(testing_labels_AAD_2, predicted_labels_svm_AAD_2, zero_division= 0))"
   ]
  },
  {
   "cell_type": "code",
   "execution_count": 123,
   "id": "c028f5f6",
   "metadata": {},
   "outputs": [
    {
     "name": "stdout",
     "output_type": "stream",
     "text": [
      "getting predictions of test instances\n",
      "[3 3 1 1 3 3 1 3 3 1 3 3 3 3 3 1 3 3 3 3 3 1 3 1 3 1 3 3 3 3 3 1 1 1 3 3 3\n",
      " 3 1 3 3 1 3 3 3 3 3 1 3 1 1 3 1 3 3 3 1 1 1 1 3 3 3 3 3 1 3 3 3 3 3 1 3 3\n",
      " 3 3 1 3 3 3 3 1 3 3 3 3 3 3 1 3 3 1 3 3 1 3 3 3 3 3 3 3 3 1 3 3 3 1 3 1 3\n",
      " 1 3 3 3 1 3 3 3 1 3 3 3 1 1 3 3 3 3 3 3 1 1 1 3 1 1 1 3 1 1 3 3 3 3 1 1 3\n",
      " 3 3 3 1 3 1 3 1 3 1 3 1 1 3 1 3 3 3 1 3]\n"
     ]
    }
   ],
   "source": [
    "#print statement\n",
    "print('getting predictions of test instances')\n",
    "#getting predictions from the trained Decision tree algorithm\n",
    "predicted_labels_svm_AAD_3 = svm_classifier.predict(test_tfidf_instance_AAD_3)\n",
    "print(predicted_labels_svm_AAD_3)"
   ]
  },
  {
   "cell_type": "code",
   "execution_count": 124,
   "id": "305f26b5",
   "metadata": {},
   "outputs": [
    {
     "name": "stdout",
     "output_type": "stream",
     "text": [
      "              precision    recall  f1-score   support\n",
      "\n",
      "           1       0.85      0.42      0.56       109\n",
      "           2       0.00      0.00      0.00        22\n",
      "           3       0.30      0.92      0.45        37\n",
      "\n",
      "    accuracy                           0.48       168\n",
      "   macro avg       0.38      0.45      0.34       168\n",
      "weighted avg       0.62      0.48      0.47       168\n",
      "\n"
     ]
    }
   ],
   "source": [
    "#compute classification, recall and fmeasure for each classification label of AAD_3\n",
    "print(classification_report(testing_labels_AAD_3, predicted_labels_svm_AAD_3, zero_division= 0))"
   ]
  },
  {
   "cell_type": "code",
   "execution_count": 131,
   "id": "72a72666",
   "metadata": {},
   "outputs": [
    {
     "name": "stdout",
     "output_type": "stream",
     "text": [
      "AAD_1 accuracy: 93.458%\n",
      "AAD_2 accuracy: 58.784%\n",
      "AAD_3 accuracy: 47.619%\n"
     ]
    }
   ],
   "source": [
    "#evaluate accuracy of each company using their original labels and predicted SVM labels\n",
    "AAD_1_accuracy = accuracy_score(testing_labels_AAD_1, predicted_labels_svm_AAD_1)\n",
    "AAD_2_accuracy = accuracy_score(testing_labels_AAD_2, predicted_labels_svm_AAD_2)\n",
    "AAD_3_accuracy = accuracy_score(testing_labels_AAD_3, predicted_labels_svm_AAD_3)\n",
    "#outputting accuracy result in three decimal places using the f string \n",
    "print(f'AAD_1 accuracy: {AAD_1_accuracy * 100:.3f}%')\n",
    "print(f'AAD_2 accuracy: {AAD_2_accuracy * 100:.3f}%')\n",
    "print(f'AAD_3 accuracy: {AAD_3_accuracy * 100:.3f}%')"
   ]
  },
  {
   "cell_type": "markdown",
   "id": "a8779c94",
   "metadata": {},
   "source": [
    "#### From the accuracy report above, the company,*AAD_1*, has the highest f1 score on the rating of 3 and precision of *0.96* Followed by *AAD_2* with precision of *0.55*, then *AAD_3* with precision of *0.30*. \n",
    "\n",
    "#### Also, *AAD_2* and *AAD_3* have the same f1 score on the rating of 1 with *AAD_3* having precision of *0.85*, followed by *AAD_2* with precision of *0.76*. Lastly, *AAD_1* with precision of *0.00*\n",
    "\n",
    "#### Overall, from the accuracy and classification results, the *AAD_1* application is the best of the three applications because it has the highest *accuracy* and the highest *f1_score* on the rating of 3."
   ]
  },
  {
   "cell_type": "code",
   "execution_count": 135,
   "id": "60626972",
   "metadata": {},
   "outputs": [
    {
     "name": "stdout",
     "output_type": "stream",
     "text": [
      "Accuracy: 93.46%\n",
      "Confidence level: 66.67%\n"
     ]
    }
   ],
   "source": [
    "# Getting the confidence level of the SVM\n",
    "confidences = svm_classifier.predict_proba(test_tfidf_instance_AAD_1)\n",
    "\n",
    "# Print the accuracy score and the confidence level mean of the SVM in 2 decimal places\n",
    "print(\"Accuracy: {:.2f}%\".format(AAD_1_accuracy * 100))\n",
    "print(\"Confidence level: {:.2f}%\".format(100 * (1-abs(confidences).mean())))"
   ]
  },
  {
   "cell_type": "code",
   "execution_count": 127,
   "id": "6e369df7",
   "metadata": {},
   "outputs": [
    {
     "name": "stdout",
     "output_type": "stream",
     "text": [
      "Accuracy: 58.78%\n",
      "Confidence level: 66.67%\n"
     ]
    }
   ],
   "source": [
    "# Getting the confidence level of the SVM\n",
    "confidences = svm_classifier.predict_proba(test_tfidf_instance_AAD_2)\n",
    "\n",
    "# Print the accuracy score and the confidence level mean of the SVM in 2 decimal places\n",
    "print(\"Accuracy: {:.2f}%\".format(AAD_2_accuracy * 100))\n",
    "print(\"Confidence level: {:.2f}%\".format(100 * (1 - abs(confidences).mean())))"
   ]
  },
  {
   "cell_type": "code",
   "execution_count": 136,
   "id": "fa0ada88",
   "metadata": {},
   "outputs": [
    {
     "name": "stdout",
     "output_type": "stream",
     "text": [
      "Accuracy: 47.62%\n",
      "Confidence level: 66.67%\n"
     ]
    }
   ],
   "source": [
    "# Getting the confidence level of the SVM\n",
    "confidences = svm_classifier.predict_proba(test_tfidf_instance_AAD_3)\n",
    "\n",
    "# Print the accuracy score and the confidence level mean of the SVM in 2 decimal places\n",
    "print(\"Accuracy: {:.2f}%\".format(AAD_3_accuracy * 100))\n",
    "print(\"Confidence level: {:.2f}%\".format(100 * (1 - abs(confidences).mean())))"
   ]
  },
  {
   "cell_type": "markdown",
   "id": "011ae315",
   "metadata": {},
   "source": [
    "### visualisations of the classification report for each android application based on ratings"
   ]
  },
  {
   "cell_type": "code",
   "execution_count": 138,
   "id": "d1cbe182",
   "metadata": {},
   "outputs": [
    {
     "data": {
      "image/png": "[encoded data removed]",
      "text/plain": [
       "<Figure size 640x480 with 1 Axes>"
      ]
     },
     "metadata": {},
     "output_type": "display_data"
    }
   ],
   "source": [
    "#android application companies\n",
    "companies = ['AAD_1', 'AAD_2', 'AAD_3']\n",
    "\n",
    "# precision, recall and f1 score for each company for rating of 1\n",
    "Precision =  [0.00, 0.76, 0.85]\n",
    "Recall =     [0.00, 0.44, 0.42]\n",
    "F1_score =   [0.00, 0.56, 0.56]\n",
    "\n",
    "# Set up the figure and axis\n",
    "fig, ax = plt.subplots()\n",
    "\n",
    "# Set the width of each bar\n",
    "bar_width = 0.15\n",
    "\n",
    "# Set the x coordinates for each category's bars\n",
    "x_pos1 = np.arange(len(companies))\n",
    "x_pos2 = [x + bar_width for x in x_pos1]\n",
    "x_pos3 = [x + bar_width for x in x_pos2]\n",
    "\n",
    "# Create the bars for each category\n",
    "ax.bar(x_pos1, Precision, width=bar_width, label='Precision')\n",
    "ax.bar(x_pos2, Recall, width=bar_width, label='Recall')\n",
    "ax.bar(x_pos3, F1_score, width=bar_width, label='F1_score')\n",
    "\n",
    "# Set the axis labels and title\n",
    "ax.set_xlabel('Companies')\n",
    "ax.set_ylabel('classification report')\n",
    "ax.set_title('precision, recall, f1 score for each company at the rating of 1')\n",
    "\n",
    "# Set the x-axis tick labels\n",
    "ax.set_xticks(x_pos3)\n",
    "ax.set_xticklabels(companies)\n",
    "\n",
    "# Add a legend\n",
    "#ax.legend(bbox_to_anchor=(1.02, 1))\n",
    "ax.legend()\n",
    "\n",
    "# Show the plot\n",
    "plt.show()\n"
   ]
  },
  {
   "cell_type": "code",
   "execution_count": 139,
   "id": "d8dafd0d",
   "metadata": {},
   "outputs": [
    {
     "data": {
      "image/png": "[encoded data removed]",
      "text/plain": [
       "<Figure size 640x480 with 1 Axes>"
      ]
     },
     "metadata": {},
     "output_type": "display_data"
    }
   ],
   "source": [
    "#Android application companies\n",
    "companies = ['AAD_1', 'AAD_2', 'AAD_3']\n",
    "\n",
    "# precision, recall and f1 score for each company for rating of 1\n",
    "Precision =  [0.00, 0.00, 0.00]\n",
    "Recall =     [0.00, 0.00, 0.00]\n",
    "F1_score =   [0.00, 0.00, 0.00]\n",
    "\n",
    "\n",
    "# Set up the figure and axis\n",
    "fig, ax = plt.subplots()\n",
    "\n",
    "# Set the width of each bar\n",
    "bar_width = 0.15\n",
    "\n",
    "# Set the x coordinates for each category's bars\n",
    "x_pos1 = np.arange(len(companies))\n",
    "x_pos2 = [x + bar_width for x in x_pos1]\n",
    "x_pos3 = [x + bar_width for x in x_pos2]\n",
    "\n",
    "# Create the bars for each category\n",
    "ax.bar(x_pos1, Precision, width=bar_width, label='Precision')\n",
    "ax.bar(x_pos2, Recall, width=bar_width, label='Recall')\n",
    "ax.bar(x_pos3, F1_score, width=bar_width, label='F1_score')\n",
    "\n",
    "# Set the axis labels and title\n",
    "ax.set_xlabel('Companies')\n",
    "ax.set_ylabel('classification report')\n",
    "ax.set_title('precision, recall, f1 score for each company at the Rating of 2')\n",
    "\n",
    "# Set the x-axis tick labels\n",
    "ax.set_xticks(x_pos3)\n",
    "ax.set_xticklabels(companies)\n",
    "\n",
    "# Add a legend\n",
    "ax.legend()\n",
    "\n",
    "# Show the plot\n",
    "plt.show()"
   ]
  },
  {
   "cell_type": "code",
   "execution_count": 140,
   "id": "d6135847",
   "metadata": {},
   "outputs": [
    {
     "data": {
      "image/png": "[encoded data removed]",
      "text/plain": [
       "<Figure size 640x480 with 1 Axes>"
      ]
     },
     "metadata": {},
     "output_type": "display_data"
    }
   ],
   "source": [
    "#Android application companies\n",
    "companies = ['AAD_1', 'AAD_2', 'AAD_3']\n",
    "\n",
    "# precision, recall and f1 score for each company for rating of 1\n",
    "Precision =  [0.96, 0.55, 0.30]\n",
    "Recall =     [0.97, 0.94, 0.92]\n",
    "F1_score =   [0.97, 0.69, 0.45]\n",
    "\n",
    "\n",
    "# Set up the figure and axis\n",
    "fig, ax = plt.subplots()\n",
    "\n",
    "# Set the width of each bar\n",
    "bar_width = 0.15\n",
    "\n",
    "# Set the x coordinates for each category's bars\n",
    "x_pos1 = np.arange(len(companies))\n",
    "x_pos2 = [x + bar_width for x in x_pos1]\n",
    "x_pos3 = [x + bar_width for x in x_pos2]\n",
    "\n",
    "# Create the bars for each category\n",
    "ax.bar(x_pos1, Precision, width=bar_width, label='Precision')\n",
    "ax.bar(x_pos2, Recall, width=bar_width, label='Recall')\n",
    "ax.bar(x_pos3, F1_score, width=bar_width, label='F1_score')\n",
    "\n",
    "# Set the axis labels and title\n",
    "ax.set_xlabel('Companies')\n",
    "ax.set_ylabel('classification report')\n",
    "ax.set_title('precision, recall, f1 score for each company at the Rating of 3')\n",
    "\n",
    "# Set the x-axis tick labels\n",
    "ax.set_xticks(x_pos3)\n",
    "ax.set_xticklabels(companies)\n",
    "\n",
    "# Add a legend\n",
    "ax.legend(bbox_to_anchor=(1.02, 1))\n",
    "\n",
    "# Show the plot\n",
    "plt.show()"
   ]
  },
  {
   "cell_type": "code",
   "execution_count": null,
   "id": "aa1bd7b9",
   "metadata": {},
   "outputs": [],
   "source": []
  }
 ],
 "metadata": {
  "kernelspec": {
   "display_name": "Python 3 (ipykernel)",
   "language": "python",
   "name": "python3"
  },
  "language_info": {
   "codemirror_mode": {
    "name": "ipython",
    "version": 3
   },
   "file_extension": ".py",
   "mimetype": "text/x-python",
   "name": "python",
   "nbconvert_exporter": "python",
   "pygments_lexer": "ipython3",
   "version": "3.10.9"
  }
 },
 "nbformat": 4,
 "nbformat_minor": 5
}
